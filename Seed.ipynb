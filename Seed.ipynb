{
 "cells": [
  {
   "cell_type": "markdown",
   "id": "babaf2c8",
   "metadata": {},
   "source": []
  },
  {
   "cell_type": "markdown",
   "id": "4cc34a69",
   "metadata": {},
   "source": [
    "\n",
    "\n"
   ]
  },
  {
   "cell_type": "code",
   "execution_count": 1,
   "id": "e0ce31c4",
   "metadata": {},
   "outputs": [],
   "source": [
    "import numpy as np\n",
    "import pandas as pd\n",
    "import matplotlib.pyplot as plt\n",
    "from sklearn.datasets import make_classification # data generation(veri üretimi)\n",
    "from sklearn.linear_model import LogisticRegression \n",
    "from sklearn.model_selection import cross_validate, train_test_split \n",
    "from sklearn.metrics import confusion_matrix, recall_score, precision_score, f1_score, accuracy_score\n",
    "import seaborn as sns"
   ]
  },
  {
   "cell_type": "code",
   "execution_count": 4,
   "id": "aeef6ae6",
   "metadata": {},
   "outputs": [],
   "source": [
    "np.random.seed(42) \n",
    "X, y = make_classification(n_samples=1000, n_features=5, n_redundant=0, n_classes=2, random_state=42) "
   ]
  },
  {
   "cell_type": "code",
   "execution_count": 3,
   "id": "c46f192d",
   "metadata": {},
   "outputs": [
    {
     "data": {
      "text/plain": [
       "(1000, 5)"
      ]
     },
     "execution_count": 3,
     "metadata": {},
     "output_type": "execute_result"
    }
   ],
   "source": [
    "X.shape"
   ]
  },
  {
   "cell_type": "code",
   "execution_count": 5,
   "id": "d318e67e",
   "metadata": {},
   "outputs": [
    {
     "data": {
      "text/plain": [
       "array([[-0.79088179,  0.95783963,  0.72307438,  0.29094736,  0.37942674],\n",
       "       [ 1.37284847, -0.18039168, -1.06763945, -0.35744542, -1.05543736],\n",
       "       [ 0.28375102,  0.6952029 ,  1.31007519,  1.37053614,  0.53935411],\n",
       "       ...,\n",
       "       [ 0.78991972,  1.25313282,  0.73334515,  0.24020584,  0.71079614],\n",
       "       [-0.14152964, -0.73423332,  1.56875518,  0.48777482,  1.57402416],\n",
       "       [-2.8321556 , -1.51934608,  0.22845199,  1.03837885,  1.54168435]])"
      ]
     },
     "execution_count": 5,
     "metadata": {},
     "output_type": "execute_result"
    }
   ],
   "source": [
    "X"
   ]
  },
  {
   "cell_type": "code",
   "execution_count": 6,
   "id": "bcec5a13",
   "metadata": {},
   "outputs": [],
   "source": [
    "df_x = pd.DataFrame(X)"
   ]
  },
  {
   "cell_type": "code",
   "execution_count": null,
   "id": "1869a83a",
   "metadata": {},
   "outputs": [],
   "source": []
  }
 ],
 "metadata": {
  "kernelspec": {
   "display_name": "Python 3 (ipykernel)",
   "language": "python",
   "name": "python3"
  },
  "language_info": {
   "codemirror_mode": {
    "name": "ipython",
    "version": 3
   },
   "file_extension": ".py",
   "mimetype": "text/x-python",
   "name": "python",
   "nbconvert_exporter": "python",
   "pygments_lexer": "ipython3",
   "version": "3.9.7"
  }
 },
 "nbformat": 4,
 "nbformat_minor": 5
}
